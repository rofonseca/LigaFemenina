{
 "cells": [
  {
   "cell_type": "code",
   "execution_count": 2,
   "metadata": {},
   "outputs": [],
   "source": [
    "import numpy as np\n",
    "import pandas as pd\n",
    "import functions"
   ]
  },
  {
   "cell_type": "code",
   "execution_count": 3,
   "metadata": {},
   "outputs": [
    {
     "data": {
      "text/plain": [
       "(0.46774193548387094,\n",
       " 0.38235294117647056,\n",
       " 0.2115812917594655,\n",
       " 0.1907587961000424,\n",
       " 0.25,\n",
       " 0.75,\n",
       " 0.16129032258064516,\n",
       " 0.16176470588235295)"
      ]
     },
     "execution_count": 3,
     "metadata": {},
     "output_type": "execute_result"
    }
   ],
   "source": [
    "local_path = \"data/Partido_06032025_QuimsavsIACC_visitante.csv\" #IACC\n",
    "visit_path = \"data/Partido_06032025_QuimsavsIACC_local.csv\" #QUIMSA\n",
    "functions.four_factors(local_path, visit_path)"
   ]
  },
  {
   "cell_type": "code",
   "execution_count": 4,
   "metadata": {},
   "outputs": [
    {
     "name": "stdout",
     "output_type": "stream",
     "text": [
      "           shooting  turnover  rebounding  Free throws\n",
      "offensive  0.467742  0.211581        0.25     0.161290\n",
      "defensive  0.382353  0.190759        0.75     0.161765\n"
     ]
    }
   ],
   "source": [
    "functions.show_four_factor_tabla(functions.four_factors(local_path, visit_path))"
   ]
  },
  {
   "cell_type": "markdown",
   "metadata": {},
   "source": [
    "# 1. Shooting (Eficiencia de campo - eFG%):\n",
    "**Ofensivo (0.467742):** Este valor significa que el equipo tiene una eficiencia de campo ofensiva del 46.77%. Es un valor moderado, lo que sugiere que hay margen para mejorar la efectividad en los tiros.\n",
    "\n",
    "**Defensivo (0.382353):** El equipo está permitiendo a sus oponentes una eficiencia de campo defensiva de 38.24%. Esto es un excelente indicador, ya que significa que están defendiendo bien y limitando los tiros efectivos del rival.\n",
    "\n",
    "# 2. Turnover (Pérdidas de balón - TOV%):\n",
    "**Ofensivo (0.211581):** Un valor de 21.16% de pérdidas de balón en ofensiva es bastante alto, lo que sugiere que el equipo necesita mejorar el control del balón para evitar desperdiciar posesiones.\n",
    "\n",
    "**Defensivo (0.190759):** Un 19.08% de pérdidas de balón forzadas en defensa es un valor sólido, indicando que el equipo está presionando bien al rival y logrando recuperar el balón con frecuencia.\n",
    "\n",
    "# 3. Rebounding (Rebotes - REB%):\n",
    "**Ofensivo (0.25):** El equipo está obteniendo el 25% de los rebotes ofensivos disponibles. Es un valor aceptable, aunque podría ser mejorado para generar más segundas oportunidades de anotación.\n",
    "\n",
    "**Defensivo (0.75):** Un 75% de los rebotes defensivos es un buen porcentaje, aunque menor que el del análisis previo. Esto indica que el equipo sigue controlando bien el cristal defensivo, pero con margen para mejorar.\n",
    "\n",
    "# 4. Free Throws (Tiros libres - FT%):\n",
    "**Ofensivo (0.161290):** El equipo está obteniendo 16.13% de sus puntos a través de tiros libres. Es un valor bajo, lo que sugiere que podrían buscar más oportunidades para generar faltas y convertir desde la línea.\n",
    "\n",
    "**Defensivo (0.161765):** El equipo está permitiendo al oponente un 16.18% de sus puntos a través de tiros libres. Este es un buen indicador, ya que significa que están cometiendo pocas faltas y limitando los puntos del rival desde la línea.\n",
    "\n",
    "# Resumen:\n",
    "## Ofensivo:\n",
    "- El equipo tiene una eficiencia de tiro moderada.\n",
    "- Necesita mejorar el control de pérdidas de balón, ya que el porcentaje de pérdidas es alto.\n",
    "- Captura un número aceptable de rebotes ofensivos.\n",
    "- Genera pocos puntos desde la línea de tiros libres.\n",
    "\n",
    "## Defensivo:\n",
    "- Tiene una excelente defensa en tiros, limitando la eficiencia de campo del oponente.\n",
    "- Fuerza pérdidas de balón a un ritmo sólido.\n",
    "- Mantiene un buen control de los rebotes defensivos, aunque con margen de mejora.\n",
    "- Comete pocas faltas, evitando conceder demasiados puntos desde la línea de tiros libres.\n",
    "\n",
    "En general, el equipo muestra una defensa muy fuerte, especialmente en la eficiencia de tiro del rival y en la capacidad de generar pérdidas de balón. En ofensiva, deben mejorar el control del balón y generar más oportunidades de anotación mediante rebotes ofensivos y tiros libres.\n",
    "\n"
   ]
  }
 ],
 "metadata": {
  "kernelspec": {
   "display_name": "Python 3",
   "language": "python",
   "name": "python3"
  },
  "language_info": {
   "codemirror_mode": {
    "name": "ipython",
    "version": 3
   },
   "file_extension": ".py",
   "mimetype": "text/x-python",
   "name": "python",
   "nbconvert_exporter": "python",
   "pygments_lexer": "ipython3",
   "version": "3.11.9"
  }
 },
 "nbformat": 4,
 "nbformat_minor": 2
}
